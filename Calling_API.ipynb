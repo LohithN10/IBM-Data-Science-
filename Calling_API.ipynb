{
 "cells": [
  {
   "cell_type": "markdown",
   "metadata": {},
   "source": [
    "### Activity 2- API call to fetch the character's data dynamically"
   ]
  },
  {
   "cell_type": "code",
   "execution_count": null,
   "metadata": {},
   "outputs": [],
   "source": [
    "import requests\n",
    "import hashlib\n",
    "import json\n",
    "import pandas as pd"
   ]
  },
  {
   "cell_type": "code",
   "execution_count": null,
   "metadata": {},
   "outputs": [],
   "source": [
    "public_key='796418b3ab81b409d0968e5eddc9145a'\n",
    "private_key='f1af59a597179df791d6a9030fad51c441ce9a1b'\n",
    "ts=1\n",
    "hash= hashlib.md5((str(ts)+private_key+public_key).encode()).hexdigest()\n",
    "address = 'https://gateway.marvel.com:443/v1/public/characters'"
   ]
  },
  {
   "cell_type": "code",
   "execution_count": null,
   "metadata": {},
   "outputs": [],
   "source": [
    "parameters = {\n",
    "    \"apikey\": public_key,\n",
    "    \"ts\": ts,\n",
    "    \"hash\": hash\n",
    "}"
   ]
  },
  {
   "cell_type": "markdown",
   "metadata": {},
   "source": [
    "#### First API call"
   ]
  },
  {
   "cell_type": "code",
   "execution_count": null,
   "metadata": {},
   "outputs": [],
   "source": [
    "response =requests.get(address, params=parameters)\n",
    "results = response.json()\n",
    "print(json.dumps(results))\n",
    "#first api call"
   ]
  },
  {
   "cell_type": "markdown",
   "metadata": {},
   "source": [
    "#### Fetching all the charecters through a for loop"
   ]
  },
  {
   "cell_type": "code",
   "execution_count": null,
   "metadata": {},
   "outputs": [],
   "source": [
    "from string import ascii_lowercase\n",
    "\n",
    "charecters_df =pd.DataFrame()\n",
    "\n",
    "for ch in list(ascii_lowercase):\n",
    "    parameters={'ts':1,'apikey':public_key, 'hash':hash,'limit':100, 'nameStartsWith':ch}\n",
    "    response =requests.get(address, params=parameters)\n",
    "    results = response.json()\n",
    "    df=pd.json_normalize(results['data'],['results'])\n",
    "    df =df[['id','name','comics.available','events.available','stories.available','series.available']]\n",
    "    charecters_df=charecters_df.append(df)"
   ]
  },
  {
   "cell_type": "markdown",
   "metadata": {},
   "source": [
    "### Activity 3  -Defining function to generates the data frame\n"
   ]
  },
  {
   "cell_type": "code",
   "execution_count": null,
   "metadata": {},
   "outputs": [],
   "source": [
    "def df_characters(public_key,hash,nameStartsWith):\n",
    "    for ch in list(ascii_lowercase):\n",
    "        parameters={'ts':1,'apikey':public_key, 'hash':hash, 'nameStartsWith':nameStartsWith}\n",
    "        response =requests.get(address, params=parameters)\n",
    "    \n",
    "        results = response.json()\n",
    "\n",
    "        df=pd.json_normalize(results['data']['results'])\n",
    "        df =df[['id','name','comics.available','events.available','stories.available','series.available']]\n",
    "    return df"
   ]
  },
  {
   "cell_type": "markdown",
   "metadata": {},
   "source": [
    "### Activity 4 - Creating a function to filter out the characters based on conditions!"
   ]
  },
  {
   "cell_type": "code",
   "execution_count": null,
   "metadata": {},
   "outputs": [],
   "source": [
    "#activity 4\n",
    "def filter_char(df,column_name, filter_condition,filter_value):\n",
    "    if column_name== 'name':\n",
    "        filter_condition= 'starts_with'\n",
    "        length =len(filter_value)\n",
    "        return(df[df.name.str[:length]== filter_value])\n",
    "    else:\n",
    "        if filter_condition == 'equal_to':\n",
    "            return(df[df[column_name]== int(filter_value)])\n",
    "        elif filter_condition =='less_than':\n",
    "            return(df[df[column_name]<int(filter_value)])\n",
    "        elif filter_condition =='greater_than':\n",
    "            return(df[df[column_name]>int(filter_value)])\n",
    "        else:\n",
    "            return('error')"
   ]
  }
 ],
 "metadata": {
  "kernelspec": {
   "display_name": "Python 3.9.12 64-bit ('anaconda3')",
   "language": "python",
   "name": "python3"
  },
  "language_info": {
   "codemirror_mode": {
    "name": "ipython",
    "version": 3
   },
   "file_extension": ".py",
   "mimetype": "text/x-python",
   "name": "python",
   "nbconvert_exporter": "python",
   "pygments_lexer": "ipython3",
   "version": "3.9.12"
  },
  "orig_nbformat": 4,
  "vscode": {
   "interpreter": {
    "hash": "2a27321c6a65d240cf7288d38e8151db4014173b1dcf93a7ff05e6cf7f58d4c7"
   }
  }
 },
 "nbformat": 4,
 "nbformat_minor": 2
}
